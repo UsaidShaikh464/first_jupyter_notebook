{
  "metadata": {
    "kernelspec": {
      "name": "python",
      "display_name": "Python (Pyodide)",
      "language": "python"
    },
    "language_info": {
      "codemirror_mode": {
        "name": "python",
        "version": 3
      },
      "file_extension": ".py",
      "mimetype": "text/x-python",
      "name": "python",
      "nbconvert_exporter": "python",
      "pygments_lexer": "ipython3",
      "version": "3.8"
    }
  },
  "nbformat_minor": 5,
  "nbformat": 4,
  "cells": [
    {
      "id": "a7c2d09e-6879-4e92-a04d-8e3de85da5c5",
      "cell_type": "markdown",
      "source": "# exercise 2\n\n# my first notebook asignment\n\n",
      "metadata": {}
    },
    {
      "id": "4542f86f-142b-47cb-a9d3-5a090c64dc6c",
      "cell_type": "markdown",
      "source": "# exercise 3\n\nIn this notebook, we will explore various tools and languages used in the field of Data Science. We will also practice some basic arithmetic operations using Python.\n",
      "metadata": {}
    },
    {
      "id": "a5605600-1646-4bbe-899f-54a76fb2ebcb",
      "cell_type": "markdown",
      "source": "# exercise 4\n\n-> Popular languages used in Data Science are:\n\n- Python\n- R\n- SQL\n- Java\n- Julia\n- Scala\n",
      "metadata": {}
    },
    {
      "id": "5e693842-36b7-48fd-b548-4e97d8045459",
      "cell_type": "markdown",
      "source": "# exercise 5\n\n-> Libraries in Data Science include:\n\n- Pandas\n- NumPy\n- Matplotlib\n- Seaborn\n- Scikit-learn\n- TensorFlow",
      "metadata": {}
    },
    {
      "id": "e87f928b-488b-494b-9b3c-b5db98aa2263",
      "cell_type": "markdown",
      "source": "# exercise 6 \n\n-> Tools for Data Science\n\n\n|  Category          | Tool           |\n|--------------------|----------------|\n| Data Analysis      | Pandas         |\n| Data Visualization | Matplotlib     |\n| Machine Learning   | Scikit-learn   |\n| Deep Learning      | TensorFlow     |\n| Big Data           | Apache Spark   |\n",
      "metadata": {}
    },
    {
      "id": "2d4dc70d-7863-4e8f-8334-a6aaf9ee1fa5",
      "cell_type": "markdown",
      "source": "# exercise 7\n\nBelow are some examples of evaluating arithmetic expressions in Python.",
      "metadata": {}
    },
    {
      "id": "d5e09b7e-650a-432d-90b9-03a670191609",
      "cell_type": "code",
      "source": "#exercise 8\n\nprint ( (5*3)+9);",
      "metadata": {
        "trusted": true
      },
      "outputs": [
        {
          "name": "stdout",
          "output_type": "stream",
          "text": "24\n"
        }
      ],
      "execution_count": 1
    },
    {
      "id": "c1db54ff-5030-467f-b779-0fc5f9883e30",
      "cell_type": "code",
      "source": "#exercise 9 \n\nminutes = 120;\nhours = minutes/60;\n\nprint(hours);",
      "metadata": {
        "trusted": true
      },
      "outputs": [
        {
          "name": "stdout",
          "output_type": "stream",
          "text": "2.0\n"
        }
      ],
      "execution_count": 5
    },
    {
      "id": "73418523-feb9-4488-89f2-2f95d86164d0",
      "cell_type": "markdown",
      "source": "# exercise 10 \n\n-> Objectives\n\n- List popular languages used in Data Science\n- List commonly used libraries\n- Create tables using markdown\n- Perform arithmetic operations using Python\n- Convert time from minutes to hours",
      "metadata": {}
    },
    {
      "id": "bee2ed9c-548b-46b1-ac85-0202daa8bf13",
      "cell_type": "markdown",
      "source": "# exercise 11\n\nAuthor : Usaid Shaikh",
      "metadata": {}
    }
  ]
}